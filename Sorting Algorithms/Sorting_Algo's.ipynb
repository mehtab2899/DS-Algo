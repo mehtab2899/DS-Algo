{
 "cells": [
  {
   "cell_type": "markdown",
   "metadata": {},
   "source": [
    "# Sorting Algorithms"
   ]
  },
  {
   "cell_type": "markdown",
   "metadata": {},
   "source": [
    "## Bubble_Sort"
   ]
  },
  {
   "cell_type": "code",
   "execution_count": 3,
   "metadata": {},
   "outputs": [
    {
     "name": "stdout",
     "output_type": "stream",
     "text": [
      "Enter Size:6\n",
      "12\n",
      "3\n",
      "41\n",
      "11\n",
      "5\n",
      "4\n",
      "[12, 3, 41, 11, 5, 4]\n",
      "Sorted list is:\n",
      "3 4 5 11 12 41 "
     ]
    }
   ],
   "source": [
    "def bubble_sort(my_list, size):\n",
    "    for i in range(size):\n",
    "        for j in range(size-1-i):\n",
    "            if my_list[j] > my_list[j+1]:\n",
    "                my_list[j], my_list[j+1] = my_list[j+1], my_list[j]\n",
    "\n",
    "\n",
    "my_list = []\n",
    "size = int(input('Enter Size:'))\n",
    "\n",
    "for i in range(size):\n",
    "    ele = int(input())\n",
    "    my_list.append(ele)\n",
    "    \n",
    "print(my_list)\n",
    "\n",
    "bubble_sort(my_list, size)\n",
    "\n",
    "print('Sorted list is:')\n",
    "for i in range(size):\n",
    "    print(my_list[i], end=\" \")"
   ]
  },
  {
   "cell_type": "code",
   "execution_count": null,
   "metadata": {},
   "outputs": [],
   "source": []
  },
  {
   "cell_type": "markdown",
   "metadata": {},
   "source": [
    "## Selection_Sort"
   ]
  },
  {
   "cell_type": "code",
   "execution_count": 5,
   "metadata": {},
   "outputs": [
    {
     "name": "stdout",
     "output_type": "stream",
     "text": [
      "Enter Size:5\n",
      "64 \n",
      "25\n",
      "12\n",
      "22\n",
      "11\n",
      "[64, 25, 12, 22, 11]\n",
      "Sorted list is:\n",
      "11 12 22 25 64 "
     ]
    }
   ],
   "source": [
    "def selection_sort(my_list, size):\n",
    "    for i in range(size):\n",
    "        min_ele = i\n",
    "        for j in range(i+1, size):\n",
    "            if my_list[min_ele] > my_list[j]:\n",
    "                min_ele = j\n",
    "        \n",
    "        my_list[i], my_list[min_ele] = my_list[min_ele], my_list[i]\n",
    "\n",
    "my_list = []\n",
    "size = int(input('Enter Size:'))\n",
    "\n",
    "for i in range(size):\n",
    "    ele = int(input())\n",
    "    my_list.append(ele)\n",
    "    \n",
    "print(my_list)\n",
    "\n",
    "selection_sort(my_list, size)\n",
    "\n",
    "print('Sorted list is:')\n",
    "for i in range(size):\n",
    "    print(my_list[i], end=\" \")"
   ]
  },
  {
   "cell_type": "code",
   "execution_count": null,
   "metadata": {},
   "outputs": [],
   "source": []
  }
 ],
 "metadata": {
  "kernelspec": {
   "display_name": "Python 3",
   "language": "python",
   "name": "python3"
  },
  "language_info": {
   "codemirror_mode": {
    "name": "ipython",
    "version": 3
   },
   "file_extension": ".py",
   "mimetype": "text/x-python",
   "name": "python",
   "nbconvert_exporter": "python",
   "pygments_lexer": "ipython3",
   "version": "3.7.4"
  }
 },
 "nbformat": 4,
 "nbformat_minor": 2
}
