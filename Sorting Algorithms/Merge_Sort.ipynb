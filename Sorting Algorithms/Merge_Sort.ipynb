{
 "cells": [
  {
   "cell_type": "markdown",
   "metadata": {},
   "source": [
    "# Merge Sort"
   ]
  },
  {
   "cell_type": "code",
   "execution_count": 15,
   "metadata": {
    "scrolled": true
   },
   "outputs": [
    {
     "name": "stdout",
     "output_type": "stream",
     "text": [
      "5\n",
      "21\n",
      "43\n",
      "2\n",
      "1\n",
      "23\n",
      "[21, 43, 2, 1, 23]\n",
      "Sorted list is:\n",
      "1 2 21 23 43 "
     ]
    }
   ],
   "source": [
    "def merge_sort(l,n):\n",
    "    if n > 1:\n",
    "        mid = n//2\n",
    "        left = l[:mid]\n",
    "        right = l[mid:]\n",
    "\n",
    "        merge_sort(left, len(left))\n",
    "        merge_sort(right, len(right))\n",
    "        \n",
    "        i = j = k = 0\n",
    "        \n",
    "        while i < len(left) and j < len(right): \n",
    "            if left[i] < right[j]: \n",
    "                l[k] = left[i] \n",
    "                i += 1\n",
    "            else: \n",
    "                l[k] = right[j] \n",
    "                j += 1\n",
    "            k += 1\n",
    " \n",
    "        while i < len(left): \n",
    "            l[k] = left[i] \n",
    "            i += 1\n",
    "            k += 1\n",
    "\n",
    "        while j < len(right): \n",
    "            l[k] = right[j] \n",
    "            j += 1\n",
    "            k += 1\n",
    "        \n",
    "def display_list(l):\n",
    "    for i in range(n):\n",
    "        print(l[i], end=' ')\n",
    "\n",
    "l = []\n",
    "\n",
    "n = int(input())\n",
    "\n",
    "for i in range(n):\n",
    "    a = int(input())\n",
    "    l.append(a)\n",
    "\n",
    "print(l)\n",
    "merge_sort(l,n)\n",
    "print('Sorted list is:')\n",
    "display_list(l)"
   ]
  },
  {
   "cell_type": "code",
   "execution_count": 11,
   "metadata": {},
   "outputs": [],
   "source": [
    "l = [38, 27, 43, 3, 9, 82, 10]"
   ]
  },
  {
   "cell_type": "code",
   "execution_count": 13,
   "metadata": {},
   "outputs": [
    {
     "name": "stdout",
     "output_type": "stream",
     "text": [
      "3\n",
      "[38, 27, 43]\n",
      "[3, 9, 82, 10]\n"
     ]
    }
   ],
   "source": [
    "mid = len(l)//2\n",
    "print(mid)\n",
    "L = l[:mid]\n",
    "print(L)\n",
    "R = l[mid:]\n",
    "print(R)"
   ]
  },
  {
   "cell_type": "code",
   "execution_count": null,
   "metadata": {},
   "outputs": [],
   "source": []
  }
 ],
 "metadata": {
  "kernelspec": {
   "display_name": "Python 3",
   "language": "python",
   "name": "python3"
  },
  "language_info": {
   "codemirror_mode": {
    "name": "ipython",
    "version": 3
   },
   "file_extension": ".py",
   "mimetype": "text/x-python",
   "name": "python",
   "nbconvert_exporter": "python",
   "pygments_lexer": "ipython3",
   "version": "3.7.4"
  }
 },
 "nbformat": 4,
 "nbformat_minor": 2
}
