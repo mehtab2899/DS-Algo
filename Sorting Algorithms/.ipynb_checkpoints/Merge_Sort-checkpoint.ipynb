{
 "cells": [
  {
   "cell_type": "markdown",
   "metadata": {},
   "source": [
    "# Merge Sort"
   ]
  },
  {
   "cell_type": "code",
   "execution_count": 16,
   "metadata": {
    "scrolled": true
   },
   "outputs": [
    {
     "name": "stdout",
     "output_type": "stream",
     "text": [
      "Enter size of list:5\n",
      "Enter elements of list:\n",
      "12\n",
      "10\n",
      "4\n",
      "54\n",
      "21\n",
      "Unsorted list:\n",
      "[12, 10, 4, 54, 21]\n",
      "Sorted list:\n",
      "4 10 12 21 54 "
     ]
    }
   ],
   "source": [
    "def merge_sort(l,n):\n",
    "    if n > 1:\n",
    "        mid = n//2\n",
    "        left = l[:mid]\n",
    "        right = l[mid:]\n",
    "\n",
    "        merge_sort(left, len(left))\n",
    "        merge_sort(right, len(right))\n",
    "        \n",
    "        i = j = k = 0\n",
    "        \n",
    "        while i < len(left) and j < len(right): \n",
    "            if left[i] < right[j]: \n",
    "                l[k] = left[i] \n",
    "                i += 1\n",
    "            else: \n",
    "                l[k] = right[j] \n",
    "                j += 1\n",
    "            k += 1\n",
    " \n",
    "        while i < len(left): \n",
    "            l[k] = left[i] \n",
    "            i += 1\n",
    "            k += 1\n",
    "\n",
    "        while j < len(right): \n",
    "            l[k] = right[j] \n",
    "            j += 1\n",
    "            k += 1\n",
    "        \n",
    "def display_list(l):\n",
    "    for i in range(n):\n",
    "        print(l[i], end=' ')\n",
    "\n",
    "l = []\n",
    "\n",
    "n = int(input('Enter size of list:'))\n",
    "\n",
    "print('Enter elements of list:')\n",
    "for i in range(n):\n",
    "    a = int(input())\n",
    "    l.append(a)\n",
    "\n",
    "print('Unsorted list:')\n",
    "print(l)\n",
    "merge_sort(l,n)\n",
    "print('Sorted list:')\n",
    "display_list(l)"
   ]
  },
  {
   "cell_type": "code",
   "execution_count": null,
   "metadata": {},
   "outputs": [],
   "source": []
  }
 ],
 "metadata": {
  "kernelspec": {
   "display_name": "Python 3",
   "language": "python",
   "name": "python3"
  },
  "language_info": {
   "codemirror_mode": {
    "name": "ipython",
    "version": 3
   },
   "file_extension": ".py",
   "mimetype": "text/x-python",
   "name": "python",
   "nbconvert_exporter": "python",
   "pygments_lexer": "ipython3",
   "version": "3.7.4"
  }
 },
 "nbformat": 4,
 "nbformat_minor": 2
}
