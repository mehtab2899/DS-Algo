{
 "cells": [
  {
   "cell_type": "markdown",
   "metadata": {},
   "source": [
    "# Selection Sort"
   ]
  },
  {
   "cell_type": "code",
   "execution_count": 2,
   "metadata": {},
   "outputs": [
    {
     "name": "stdout",
     "output_type": "stream",
     "text": [
      "Enter Size:5\n",
      "65\n",
      "12\n",
      "22\n",
      "11\n",
      "3\n",
      "[65, 12, 22, 11, 3]\n",
      "Sorted list is:\n",
      "3 11 12 22 65 "
     ]
    }
   ],
   "source": [
    "def selection_sort(my_list, size):\n",
    "    for i in range(size):\n",
    "        min_ele = i\n",
    "        for j in range(i+1, size):\n",
    "            if my_list[min_ele] > my_list[j]:\n",
    "                min_ele = j\n",
    "        \n",
    "        my_list[i], my_list[min_ele] = my_list[min_ele], my_list[i]\n",
    "\n",
    "my_list = []\n",
    "size = int(input('Enter Size:'))\n",
    "\n",
    "for i in range(size):\n",
    "    ele = int(input())\n",
    "    my_list.append(ele)\n",
    "    \n",
    "print(my_list)\n",
    "\n",
    "selection_sort(my_list, size)\n",
    "\n",
    "print('Sorted list is:')\n",
    "for i in range(size):\n",
    "    print(my_list[i], end=\" \")"
   ]
  },
  {
   "cell_type": "code",
   "execution_count": null,
   "metadata": {},
   "outputs": [],
   "source": []
  }
 ],
 "metadata": {
  "kernelspec": {
   "display_name": "Python 3",
   "language": "python",
   "name": "python3"
  },
  "language_info": {
   "codemirror_mode": {
    "name": "ipython",
    "version": 3
   },
   "file_extension": ".py",
   "mimetype": "text/x-python",
   "name": "python",
   "nbconvert_exporter": "python",
   "pygments_lexer": "ipython3",
   "version": "3.7.4"
  }
 },
 "nbformat": 4,
 "nbformat_minor": 2
}
