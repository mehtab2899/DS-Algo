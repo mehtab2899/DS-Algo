{
 "cells": [
  {
   "cell_type": "markdown",
   "metadata": {},
   "source": [
    "# Quick Sort"
   ]
  },
  {
   "cell_type": "code",
   "execution_count": 11,
   "metadata": {},
   "outputs": [
    {
     "name": "stdout",
     "output_type": "stream",
     "text": [
      "Enter Size of list:7\n",
      "23\n",
      "2\n",
      "13\n",
      "11\n",
      "65\n",
      "32\n",
      "12\n",
      "Unsorted list is:\n",
      "[23, 2, 13, 11, 65, 32, 12]\n",
      "Sorted list is:\n",
      "[2, 11, 12, 13, 23, 32, 65]\n"
     ]
    }
   ],
   "source": [
    "def partition(l, low, high):\n",
    "    i =  low-1         \n",
    "    pivot = l[high]   \n",
    "        \n",
    "    for j in range(low, high): \n",
    "        if l[j] < pivot:  \n",
    "            i = i+1 \n",
    "            l[i], l[j] = l[j], l[i] \n",
    "  \n",
    "    l[i+1], l[high] = l[high], l[i+1] \n",
    "    \n",
    "    return i+1 \n",
    "  \n",
    "def quick_sort(l,low,high): \n",
    "    if low < high: \n",
    "        pi = partition(l, low, high) \n",
    "        quick_sort(l, low, pi-1) \n",
    "        quick_sort(l, pi+1, high) \n",
    "\n",
    "l = []\n",
    "\n",
    "n = int(input('Enter Size of list:'))\n",
    "\n",
    "for i in range(n):\n",
    "    a = int(input())\n",
    "    l.append(a)\n",
    "print('Unsorted list is:')\n",
    "print(l)\n",
    "\n",
    "low = 0 \n",
    "high = n-1\n",
    "\n",
    "quick_sort(l, low, high)\n",
    "print('Sorted list is:')\n",
    "print(l)"
   ]
  },
  {
   "cell_type": "code",
   "execution_count": null,
   "metadata": {},
   "outputs": [],
   "source": []
  }
 ],
 "metadata": {
  "kernelspec": {
   "display_name": "Python 3",
   "language": "python",
   "name": "python3"
  },
  "language_info": {
   "codemirror_mode": {
    "name": "ipython",
    "version": 3
   },
   "file_extension": ".py",
   "mimetype": "text/x-python",
   "name": "python",
   "nbconvert_exporter": "python",
   "pygments_lexer": "ipython3",
   "version": "3.7.4"
  }
 },
 "nbformat": 4,
 "nbformat_minor": 2
}
