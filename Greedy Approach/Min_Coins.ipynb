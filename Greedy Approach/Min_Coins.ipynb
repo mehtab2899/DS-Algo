{
 "cells": [
  {
   "cell_type": "markdown",
   "metadata": {},
   "source": [
    "# Greedy Algorithm to find Minimum number of Coins"
   ]
  },
  {
   "cell_type": "code",
   "execution_count": 6,
   "metadata": {},
   "outputs": [
    {
     "name": "stdout",
     "output_type": "stream",
     "text": [
      "Enter Price to change:253\n",
      "These are the minimum changes of price:\n",
      "200 50 2 1 "
     ]
    }
   ],
   "source": [
    "def min_coins(price):\n",
    "    coins = [1,2,5,10,20,50,100,200,500,2000]\n",
    "    k = len(coins)\n",
    "    money = []\n",
    "    i = k - 1\n",
    "    while(i >= 0):\n",
    "        while(price >= coins[i]):\n",
    "            price -= coins[i]\n",
    "            money.append(coins[i])\n",
    "        i -= 1\n",
    "        \n",
    "    for i in range(len(money)):\n",
    "        print(money[i], end=' ')\n",
    "    \n",
    "\n",
    "if __name__ == '__main__':\n",
    "    price = int(input('Enter Price to change:'))\n",
    "    \n",
    "    print('These are the minimum changes of price:')\n",
    "    min_coins(price)\n",
    "    "
   ]
  },
  {
   "cell_type": "code",
   "execution_count": null,
   "metadata": {},
   "outputs": [],
   "source": []
  }
 ],
 "metadata": {
  "kernelspec": {
   "display_name": "Python 3",
   "language": "python",
   "name": "python3"
  },
  "language_info": {
   "codemirror_mode": {
    "name": "ipython",
    "version": 3
   },
   "file_extension": ".py",
   "mimetype": "text/x-python",
   "name": "python",
   "nbconvert_exporter": "python",
   "pygments_lexer": "ipython3",
   "version": "3.7.4"
  }
 },
 "nbformat": 4,
 "nbformat_minor": 2
}
