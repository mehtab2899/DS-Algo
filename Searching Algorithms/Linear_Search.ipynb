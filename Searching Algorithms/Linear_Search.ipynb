{
 "cells": [
  {
   "cell_type": "markdown",
   "metadata": {},
   "source": [
    "# Sequential Search"
   ]
  },
  {
   "cell_type": "markdown",
   "metadata": {},
   "source": [
    "## Linear Search"
   ]
  },
  {
   "cell_type": "code",
   "execution_count": null,
   "metadata": {},
   "outputs": [],
   "source": [
    "# if element is found then return its index \n",
    "# if element is not found then return -1\n",
    "\n",
    "def linear_search(my_list, Size, Item):\n",
    "    for i in range(Size):\n",
    "        if my_list[i] == Item:\n",
    "            return i\n",
    "    return -1\n",
    "        \n",
    "my_list = []\n",
    "\n",
    "Size = int(input('Enter Number of element is the list: '))\n",
    "\n",
    "print('Enter Elements:')\n",
    "for i in range(Size):\n",
    "    a = int(input())   \n",
    "    my_list.append(a)\n",
    "    continue\n",
    "\n",
    "print(my_list)\n",
    "\n",
    "Item = int(input('Enter element to search in above list:'))\n",
    "\n",
    "Search = linear_search(my_list, Size, Item)\n",
    "if Search == -1:\n",
    "    print('Element is not found in above list\\n')\n",
    "else:\n",
    "    print(f'Element, {Item} is found at position {Search}')`"
   ]
  }
 ],
 "metadata": {
  "kernelspec": {
   "display_name": "Python 3",
   "language": "python",
   "name": "python3"
  },
  "language_info": {
   "codemirror_mode": {
    "name": "ipython",
    "version": 3
   },
   "file_extension": ".py",
   "mimetype": "text/x-python",
   "name": "python",
   "nbconvert_exporter": "python",
   "pygments_lexer": "ipython3",
   "version": "3.7.4"
  }
 },
 "nbformat": 4,
 "nbformat_minor": 2
}
