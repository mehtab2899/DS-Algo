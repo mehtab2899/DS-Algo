{
 "cells": [
  {
   "cell_type": "markdown",
   "metadata": {},
   "source": [
    "# Sequential Search"
   ]
  },
  {
   "cell_type": "markdown",
   "metadata": {},
   "source": [
    "## Linear Search"
   ]
  },
  {
   "cell_type": "code",
   "execution_count": 40,
   "metadata": {},
   "outputs": [
    {
     "name": "stdout",
     "output_type": "stream",
     "text": [
      "Enter Number of element is the list: 2\n",
      "Enter Elements:\n",
      "12\n",
      "32\n",
      "[12, 32]\n",
      "Enter element to search in above list:12\n",
      "Element, 12 is found at position 0\n"
     ]
    }
   ],
   "source": [
    "# if element is found then return its index \n",
    "# if element is not found then return -1\n",
    "\n",
    "def linear_search(my_list, Size, Item):\n",
    "    for i in range(Size):\n",
    "        if my_list[i] == Item:\n",
    "            return i\n",
    "    return -1\n",
    "        \n",
    "my_list = []\n",
    "\n",
    "Size = int(input('Enter Number of element is the list: '))\n",
    "\n",
    "print('Enter Elements:')\n",
    "for i in range(Size):\n",
    "    a = int(input())   \n",
    "    my_list.append(a)\n",
    "    continue\n",
    "\n",
    "print(my_list)\n",
    "\n",
    "Item = int(input('Enter element to search in above list:'))\n",
    "\n",
    "Search = linear_search(my_list, Size, Item)\n",
    "if Search == -1:\n",
    "    print('Element is not found in above list\\n')\n",
    "else:\n",
    "    print(f'Element, {Item} is found at position {Search}')"
   ]
  },
  {
   "cell_type": "markdown",
   "metadata": {},
   "source": []
  },
  {
   "cell_type": "markdown",
   "metadata": {},
   "source": [
    "# Interval Search"
   ]
  },
  {
   "cell_type": "markdown",
   "metadata": {},
   "source": [
    "## Binary Search"
   ]
  },
  {
   "cell_type": "code",
   "execution_count": 1,
   "metadata": {},
   "outputs": [
    {
     "name": "stdout",
     "output_type": "stream",
     "text": [
      "Enter size of list:5\n",
      "Enter Elements of list:\n",
      "12\n",
      "33\n",
      "2\n",
      "3\n",
      "1\n",
      "[1, 2, 3, 12, 33]\n",
      "Enter item to search:33\n",
      "element, 33 is found at position 4\n"
     ]
    }
   ],
   "source": [
    "# if element is found then return its index \n",
    "# if element is not found then return -1\n",
    "\n",
    "def binary_search(my_list, item, size):\n",
    "    low = 0\n",
    "    high = size - 1\n",
    "\n",
    "    while low <= high:\n",
    "      \n",
    "        mid = (low+high)//2\n",
    "        \n",
    "        if my_list[mid] == item:\n",
    "            return mid\n",
    "        elif my_list[mid] < item:\n",
    "            low = mid + 1\n",
    "        else:\n",
    "            high = mid - 1\n",
    "\n",
    "    return -1\n",
    "\n",
    "\n",
    "my_list = []\n",
    "\n",
    "size = int(input('Enter size of list:'))\n",
    "\n",
    "print('Enter Elements of list:')\n",
    "for i in range(size):\n",
    "    a = int(input())\n",
    "    my_list.append(a)\n",
    "\n",
    "my_list.sort()\n",
    "\n",
    "print(my_list)\n",
    "\n",
    "item = int(input('Enter item to search:'))\n",
    "\n",
    "search = binary_search(my_list, item, size)\n",
    "\n",
    "if search == -1:\n",
    "    print('element is not found')\n",
    "else:\n",
    "    print(f'element, {item} is found at position {search}')\n",
    "\n",
    "    "
   ]
  },
  {
   "cell_type": "markdown",
   "metadata": {},
   "source": []
  },
  {
   "cell_type": "markdown",
   "metadata": {},
   "source": [
    "## Recursion solution for binary search"
   ]
  },
  {
   "cell_type": "code",
   "execution_count": 2,
   "metadata": {},
   "outputs": [
    {
     "name": "stdout",
     "output_type": "stream",
     "text": [
      "Enter size of list:5\n",
      "Enter Elements of list:\n",
      "12\n",
      "3\n",
      "43\n",
      "21\n",
      "33\n",
      "[3, 12, 21, 33, 43]\n",
      "Enter item to search:43\n",
      "element, 43 is found at position 4\n"
     ]
    }
   ],
   "source": [
    "def binary_search(my_list, low, high, item, size):\n",
    "    if high >= low:\n",
    "        \n",
    "        mid = (low+high)//2\n",
    "        \n",
    "        if my_list[mid] == item:\n",
    "            return mid\n",
    "        elif my_list[mid] < item:\n",
    "            return binary_search(my_list, mid+1, high, item, size)\n",
    "        else:\n",
    "            return binary_search(my_list, low, mid-1, item, size)\n",
    "\n",
    "    return -1\n",
    "\n",
    "\n",
    "my_list = []\n",
    "\n",
    "size = int(input('Enter size of list:'))\n",
    "\n",
    "print('Enter Elements of list:')\n",
    "for i in range(size):\n",
    "    a = int(input())\n",
    "    my_list.append(a)\n",
    "\n",
    "my_list.sort()\n",
    "\n",
    "print(my_list)\n",
    "\n",
    "item = int(input('Enter item to search:'))\n",
    "\n",
    "search = binary_search(my_list, 0, size-1, item, size)\n",
    "\n",
    "if search == -1:\n",
    "    print('element is not found')\n",
    "else:\n",
    "    print(f'element, {item} is found at position {search}')"
   ]
  },
  {
   "cell_type": "code",
   "execution_count": null,
   "metadata": {},
   "outputs": [],
   "source": []
  }
 ],
 "metadata": {
  "kernelspec": {
   "display_name": "Python 3",
   "language": "python",
   "name": "python3"
  },
  "language_info": {
   "codemirror_mode": {
    "name": "ipython",
    "version": 3
   },
   "file_extension": ".py",
   "mimetype": "text/x-python",
   "name": "python",
   "nbconvert_exporter": "python",
   "pygments_lexer": "ipython3",
   "version": "3.7.4"
  }
 },
 "nbformat": 4,
 "nbformat_minor": 2
}
